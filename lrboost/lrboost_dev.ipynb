{
 "cells": [
  {
   "cell_type": "code",
   "execution_count": 1,
   "metadata": {},
   "outputs": [],
   "source": [
    "from sklearn.ensemble import RandomForestRegressor\n",
    "from sklearn.linear_model import RidgeCV\n",
    "import numpy as np\n",
    "from sklearn.utils.validation import (\n",
    "    check_is_fitted,\n",
    "    check_consistent_length,\n",
    "    _check_sample_weight,\n",
    ")"
   ]
  },
  {
   "cell_type": "code",
   "execution_count": 12,
   "metadata": {},
   "outputs": [],
   "source": [
    "class LRBoostRegressor():\n",
    "    \n",
    "    def __init__(self, linear_model=RidgeCV(), non_linear_model=HistGradientBoostingRegressor()):\n",
    "        self.linear_model = linear_model\n",
    "        self.non_linear_model = non_linear_model\n",
    "\n",
    "    def __sklearn_is_fitted__(self):\n",
    "        return True\n",
    "\n",
    "    def fit(self, X, y, sample_weight=None):\n",
    "        self.linear_model.fit(X, y, sample_weight=sample_weight)\n",
    "        linear_prediction = self.linear_model.predict(X)\n",
    "        linear_residual = np.subtract(linear_prediction, y)\n",
    "        self.non_linear_model.fit(X, y=linear_residual, sample_weight=sample_weight)\n",
    "        \n",
    "        return self\n",
    "\n",
    "    def predict(self, X) -> np.array:\n",
    "        check_is_fitted(self)\n",
    "        non_linear_prediction = self.non_linear_model.predict(X)\n",
    "        linear_prediction = self.linear_model.predict(X)\n",
    "\n",
    "        return np.add(non_linear_prediction, linear_prediction)"
   ]
  },
  {
   "cell_type": "code",
   "execution_count": 15,
   "metadata": {},
   "outputs": [],
   "source": [
    "from sklearn.ensemble import HistGradientBoostingRegressor, RandomForestRegressor\n",
    "from sklearn.datasets import load_iris\n",
    "from sklearn.linear_model import RidgeCV, LinearRegression\n",
    "from sklearn.metrics import mean_squared_error\n",
    "X, y = load_iris(return_X_y=True)"
   ]
  },
  {
   "cell_type": "code",
   "execution_count": 16,
   "metadata": {},
   "outputs": [
    {
     "data": {
      "text/plain": [
       "0.125064631553949"
      ]
     },
     "execution_count": 16,
     "metadata": {},
     "output_type": "execute_result"
    }
   ],
   "source": [
    "## Default\n",
    "lrb = LRBoostRegressor().fit(X, y)\n",
    "predictions = lrb.predict(X)\n",
    "mean_squared_error(predictions, y)"
   ]
  },
  {
   "cell_type": "code",
   "execution_count": 17,
   "metadata": {},
   "outputs": [
    {
     "data": {
      "text/plain": [
       "0.15091388971387212"
      ]
     },
     "execution_count": 17,
     "metadata": {},
     "output_type": "execute_result"
    }
   ],
   "source": [
    "## Other estimators\n",
    "lrb = LRBoostRegressor(linear_model=LinearRegression(), non_linear_model=RandomForestRegressor()).fit(X, y)\n",
    "predictions = lrb.predict(X)\n",
    "mean_squared_error(predictions, y)"
   ]
  }
 ],
 "metadata": {
  "interpreter": {
   "hash": "851ec02c8773162f7c1b97803a5edfe2e0978958fabe5e41139935c3247d6e90"
  },
  "kernelspec": {
   "display_name": "Python 3.8.2 64-bit ('lrboost': venv)",
   "language": "python",
   "name": "python3"
  },
  "language_info": {
   "codemirror_mode": {
    "name": "ipython",
    "version": 3
   },
   "file_extension": ".py",
   "mimetype": "text/x-python",
   "name": "python",
   "nbconvert_exporter": "python",
   "pygments_lexer": "ipython3",
   "version": "3.8.2"
  },
  "orig_nbformat": 4
 },
 "nbformat": 4,
 "nbformat_minor": 2
}
